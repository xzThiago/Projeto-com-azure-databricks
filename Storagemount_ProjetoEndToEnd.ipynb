{
 "cells": [
  {
   "cell_type": "code",
   "execution_count": 0,
   "metadata": {
    "application/vnd.databricks.v1+cell": {
     "cellMetadata": {
      "byteLimit": 2048000,
      "rowLimit": 10000
     },
     "inputWidgets": {},
     "nuid": "7986c912-5811-43e3-85ef-f4487eac10f6",
     "showTitle": false,
     "title": ""
    }
   },
   "outputs": [
    {
     "output_type": "stream",
     "name": "stdout",
     "output_type": "stream",
     "text": [
      "Mounted the directory '/mnt/bronze'.\n"
     ]
    }
   ],
   "source": [
    "# Databricks notebook source\n",
    "dbutils.fs.mounts()\n",
    "\n",
    "# COMMAND BRONZE ----------\n",
    "\n",
    "existing_mounts = dbutils.fs.mounts()\n",
    "target_mount_point = \"/mnt/bronze\"\n",
    "\n",
    "if any(mount.mountPoint == target_mount_point for mount in existing_mounts):\n",
    "    print(f\"The directory '{target_mount_point}' is already mounted.\")\n",
    "else:\n",
    "    configs = {\n",
    "    \"fs.azure.account.auth.type\": \"CustomAccessToken\",\n",
    "    \"fs.azure.account.custom.token.provider.class\": spark.conf.get(\"spark.databricks.passthrough.adls.gen2.tokenProviderClassName\")\n",
    "    }\n",
    "\n",
    "    dbutils.fs.mount(\n",
    "    source = \"abfss://bronze@projetoendtoend.dfs.core.windows.net/\",\n",
    "    mount_point = target_mount_point,\n",
    "    extra_configs = configs)\n",
    "    print(f\"Mounted the directory '{target_mount_point}'.\")"
   ]
  },
  {
   "cell_type": "code",
   "execution_count": 0,
   "metadata": {
    "application/vnd.databricks.v1+cell": {
     "cellMetadata": {
      "byteLimit": 2048000,
      "rowLimit": 10000
     },
     "inputWidgets": {},
     "nuid": "73120589-feac-42d0-b2fe-84bd12bf9cc8",
     "showTitle": false,
     "title": ""
    }
   },
   "outputs": [
    {
     "output_type": "stream",
     "name": "stdout",
     "output_type": "stream",
     "text": [
      "Mounted the directory '/mnt/silver'.\n"
     ]
    }
   ],
   "source": [
    "# COMMAND SILVER ----------\n",
    "\n",
    "existing_mounts = dbutils.fs.mounts()\n",
    "target_mount_point = \"/mnt/silver\"\n",
    "\n",
    "if any(mount.mountPoint == target_mount_point for mount in existing_mounts):\n",
    "    print(f\"The directory '{target_mount_point}' is already mounted.\")\n",
    "else:\n",
    "    configs = {\n",
    "    \"fs.azure.account.auth.type\": \"CustomAccessToken\",\n",
    "    \"fs.azure.account.custom.token.provider.class\": spark.conf.get(\"spark.databricks.passthrough.adls.gen2.tokenProviderClassName\")\n",
    "    }\n",
    "\n",
    "    dbutils.fs.mount(\n",
    "    source = \"abfss://silver@projetoendtoend.dfs.core.windows.net/\",\n",
    "    mount_point = target_mount_point,\n",
    "    extra_configs = configs)\n",
    "    print(f\"Mounted the directory '{target_mount_point}'.\")"
   ]
  },
  {
   "cell_type": "code",
   "execution_count": 0,
   "metadata": {
    "application/vnd.databricks.v1+cell": {
     "cellMetadata": {
      "byteLimit": 2048000,
      "rowLimit": 10000
     },
     "inputWidgets": {},
     "nuid": "f2f4d9be-215b-4420-91b0-e174c5554a8e",
     "showTitle": false,
     "title": ""
    }
   },
   "outputs": [
    {
     "output_type": "stream",
     "name": "stdout",
     "output_type": "stream",
     "text": [
      "Mounted the directory '/mnt/gold'.\n"
     ]
    }
   ],
   "source": [
    "# COMMAND GOLD ----------\n",
    "\n",
    "existing_mounts = dbutils.fs.mounts()\n",
    "target_mount_point = \"/mnt/gold\"\n",
    "\n",
    "if any(mount.mountPoint == target_mount_point for mount in existing_mounts):\n",
    "    print(f\"The directory '{target_mount_point}' is already mounted.\")\n",
    "else:\n",
    "    configs = {\n",
    "    \"fs.azure.account.auth.type\": \"CustomAccessToken\",\n",
    "    \"fs.azure.account.custom.token.provider.class\": spark.conf.get(\"spark.databricks.passthrough.adls.gen2.tokenProviderClassName\")\n",
    "    }\n",
    "\n",
    "    dbutils.fs.mount(\n",
    "    source = \"abfss://gold@projetoendtoend.dfs.core.windows.net/\",\n",
    "    mount_point = target_mount_point,\n",
    "    extra_configs = configs)\n",
    "    print(f\"Mounted the directory '{target_mount_point}'.\")"
   ]
  },
  {
   "cell_type": "code",
   "execution_count": 0,
   "metadata": {
    "application/vnd.databricks.v1+cell": {
     "cellMetadata": {
      "byteLimit": 2048000,
      "rowLimit": 10000
     },
     "inputWidgets": {},
     "nuid": "267fe818-0cd9-4939-8543-fb9b3a1c70f8",
     "showTitle": false,
     "title": ""
    }
   },
   "outputs": [
    {
     "output_type": "stream",
     "name": "stdout",
     "output_type": "stream",
     "text": [
      "Out[7]: [FileInfo(path='dbfs:/mnt/bronze/SalesLT/Address/', name='Address/', size=0, modificationTime=1722871124000),\n FileInfo(path='dbfs:/mnt/bronze/SalesLT/Customer/', name='Customer/', size=0, modificationTime=1722871152000),\n FileInfo(path='dbfs:/mnt/bronze/SalesLT/CustomerAddress/', name='CustomerAddress/', size=0, modificationTime=1722871146000),\n FileInfo(path='dbfs:/mnt/bronze/SalesLT/Product/', name='Product/', size=0, modificationTime=1722871167000),\n FileInfo(path='dbfs:/mnt/bronze/SalesLT/ProductCategory/', name='ProductCategory/', size=0, modificationTime=1722871182000),\n FileInfo(path='dbfs:/mnt/bronze/SalesLT/ProductDescription/', name='ProductDescription/', size=0, modificationTime=1722871174000),\n FileInfo(path='dbfs:/mnt/bronze/SalesLT/ProductModel/', name='ProductModel/', size=0, modificationTime=1722871192000),\n FileInfo(path='dbfs:/mnt/bronze/SalesLT/ProductModelProductDescription/', name='ProductModelProductDescription/', size=0, modificationTime=1722871134000),\n FileInfo(path='dbfs:/mnt/bronze/SalesLT/SalesOrderDetail/', name='SalesOrderDetail/', size=0, modificationTime=1722871123000),\n FileInfo(path='dbfs:/mnt/bronze/SalesLT/SalesOrderHeader/', name='SalesOrderHeader/', size=0, modificationTime=1722871141000)]"
     ]
    }
   ],
   "source": [
    "dbutils.fs.ls(\"/mnt/bronze/SalesLT/\")"
   ]
  },
  {
   "cell_type": "code",
   "execution_count": 0,
   "metadata": {
    "application/vnd.databricks.v1+cell": {
     "cellMetadata": {},
     "inputWidgets": {},
     "nuid": "ac9f6caf-4c6f-40f3-806a-61b90d9104f1",
     "showTitle": false,
     "title": ""
    }
   },
   "outputs": [],
   "source": []
  },
  {
   "cell_type": "code",
   "execution_count": 0,
   "metadata": {
    "application/vnd.databricks.v1+cell": {
     "cellMetadata": {},
     "inputWidgets": {},
     "nuid": "a0af73fb-8183-4d36-b5d3-604841ba5d97",
     "showTitle": false,
     "title": ""
    }
   },
   "outputs": [],
   "source": []
  }
 ],
 "metadata": {
  "application/vnd.databricks.v1+notebook": {
   "dashboards": [],
   "environmentMetadata": null,
   "language": "python",
   "notebookMetadata": {
    "pythonIndentUnit": 4
   },
   "notebookName": "Storagemount_ProjetoEndToEnd",
   "widgets": {}
  }
 },
 "nbformat": 4,
 "nbformat_minor": 0
}
